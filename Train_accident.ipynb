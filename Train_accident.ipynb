{
 "cells": [
  {
   "cell_type": "markdown",
   "metadata": {},
   "source": [
    "# Day -01\n"
   ]
  },
  {
   "cell_type": "markdown",
   "metadata": {},
   "source": [
    "(March 26 - Day 1)\n",
    "Start by:\n",
    "✅ Loading and exploring the dataset.\n",
    "✅ Checking for missing values, duplicates, and incorrect formats.\n",
    "✅ Cleaning and preprocessing data for consistency."
   ]
  },
  {
   "cell_type": "code",
   "execution_count": 2,
   "metadata": {},
   "outputs": [],
   "source": [
    "import pandas as pd"
   ]
  },
  {
   "cell_type": "code",
   "execution_count": 3,
   "metadata": {},
   "outputs": [],
   "source": [
    "# Load dataset (update the file path if needed)\n",
    "file_path = \"master-data-year-and-broad-cause-wise-trend-of-consequential-train-accidents-on-indian-railways.xlsx.xlsx\"\n",
    "df = pd.read_excel(file_path)"
   ]
  },
  {
   "cell_type": "code",
   "execution_count": 9,
   "metadata": {},
   "outputs": [
    {
     "data": {
      "application/vnd.microsoft.datawrangler.viewer.v0+json": {
       "columns": [
        {
         "name": "index",
         "rawType": "int64",
         "type": "integer"
        },
        {
         "name": "fiscal_year",
         "rawType": "object",
         "type": "string"
        },
        {
         "name": "state",
         "rawType": "object",
         "type": "string"
        },
        {
         "name": "cause\n",
         "rawType": "object",
         "type": "string"
        },
        {
         "name": "value",
         "rawType": "object",
         "type": "unknown"
        },
        {
         "name": "units\n",
         "rawType": "object",
         "type": "string"
        },
        {
         "name": "note",
         "rawType": "float64",
         "type": "float"
        }
       ],
       "conversionMethod": "pd.DataFrame",
       "ref": "d57d18ad-c07e-4b66-b923-408454684e57",
       "rows": [
        [
         "0",
         "2021-22",
         "All India",
         "Failure of Equipment",
         "5",
         "value in absolute number",
         null
        ],
        [
         "1",
         "2021-22",
         "All India",
         "Failure of other than Railway staff",
         "4",
         "value in absolute number",
         null
        ],
        [
         "2",
         "2021-22",
         "All India",
         "Failure of Railway Staff",
         "20",
         "value in absolute number",
         null
        ],
        [
         "3",
         "2021-22",
         "All India",
         "Incidental",
         "3",
         "value in absolute number",
         null
        ],
        [
         "4",
         "2021-22",
         "All India",
         "Sabotage",
         "1",
         "value in absolute number",
         null
        ]
       ],
       "shape": {
        "columns": 6,
        "rows": 5
       }
      },
      "text/html": [
       "<div>\n",
       "<style scoped>\n",
       "    .dataframe tbody tr th:only-of-type {\n",
       "        vertical-align: middle;\n",
       "    }\n",
       "\n",
       "    .dataframe tbody tr th {\n",
       "        vertical-align: top;\n",
       "    }\n",
       "\n",
       "    .dataframe thead th {\n",
       "        text-align: right;\n",
       "    }\n",
       "</style>\n",
       "<table border=\"1\" class=\"dataframe\">\n",
       "  <thead>\n",
       "    <tr style=\"text-align: right;\">\n",
       "      <th></th>\n",
       "      <th>fiscal_year</th>\n",
       "      <th>state</th>\n",
       "      <th>cause\\n</th>\n",
       "      <th>value</th>\n",
       "      <th>units\\n</th>\n",
       "      <th>note</th>\n",
       "    </tr>\n",
       "  </thead>\n",
       "  <tbody>\n",
       "    <tr>\n",
       "      <th>0</th>\n",
       "      <td>2021-22</td>\n",
       "      <td>All India</td>\n",
       "      <td>Failure of Equipment</td>\n",
       "      <td>5</td>\n",
       "      <td>value in absolute number</td>\n",
       "      <td>NaN</td>\n",
       "    </tr>\n",
       "    <tr>\n",
       "      <th>1</th>\n",
       "      <td>2021-22</td>\n",
       "      <td>All India</td>\n",
       "      <td>Failure of other than Railway staff</td>\n",
       "      <td>4</td>\n",
       "      <td>value in absolute number</td>\n",
       "      <td>NaN</td>\n",
       "    </tr>\n",
       "    <tr>\n",
       "      <th>2</th>\n",
       "      <td>2021-22</td>\n",
       "      <td>All India</td>\n",
       "      <td>Failure of Railway Staff</td>\n",
       "      <td>20</td>\n",
       "      <td>value in absolute number</td>\n",
       "      <td>NaN</td>\n",
       "    </tr>\n",
       "    <tr>\n",
       "      <th>3</th>\n",
       "      <td>2021-22</td>\n",
       "      <td>All India</td>\n",
       "      <td>Incidental</td>\n",
       "      <td>3</td>\n",
       "      <td>value in absolute number</td>\n",
       "      <td>NaN</td>\n",
       "    </tr>\n",
       "    <tr>\n",
       "      <th>4</th>\n",
       "      <td>2021-22</td>\n",
       "      <td>All India</td>\n",
       "      <td>Sabotage</td>\n",
       "      <td>1</td>\n",
       "      <td>value in absolute number</td>\n",
       "      <td>NaN</td>\n",
       "    </tr>\n",
       "  </tbody>\n",
       "</table>\n",
       "</div>"
      ],
      "text/plain": [
       "  fiscal_year      state                              cause\\n value  \\\n",
       "0     2021-22  All India                 Failure of Equipment     5   \n",
       "1     2021-22  All India  Failure of other than Railway staff     4   \n",
       "2     2021-22  All India             Failure of Railway Staff    20   \n",
       "3     2021-22  All India                           Incidental     3   \n",
       "4     2021-22  All India                             Sabotage     1   \n",
       "\n",
       "                    units\\n  note  \n",
       "0  value in absolute number   NaN  \n",
       "1  value in absolute number   NaN  \n",
       "2  value in absolute number   NaN  \n",
       "3  value in absolute number   NaN  \n",
       "4  value in absolute number   NaN  "
      ]
     },
     "metadata": {},
     "output_type": "display_data"
    }
   ],
   "source": [
    "display(df.head())"
   ]
  },
  {
   "cell_type": "markdown",
   "metadata": {},
   "source": []
  },
  {
   "cell_type": "code",
   "execution_count": 5,
   "metadata": {},
   "outputs": [
    {
     "name": "stdout",
     "output_type": "stream",
     "text": [
      "Missing values per column:\n",
      "fiscal_year      0\n",
      "state            0\n",
      "cause\\n          0\n",
      "value            0\n",
      "units\\n          0\n",
      "note           131\n",
      "dtype: int64\n"
     ]
    }
   ],
   "source": [
    "# Check for missing values\n",
    "print(\"Missing values per column:\")\n",
    "print(df.isnull().sum())"
   ]
  },
  {
   "cell_type": "code",
   "execution_count": 6,
   "metadata": {},
   "outputs": [],
   "source": [
    "# Drop duplicates\n",
    "df.drop_duplicates(inplace=True)"
   ]
  },
  {
   "cell_type": "code",
   "execution_count": 7,
   "metadata": {},
   "outputs": [],
   "source": [
    "# Convert fiscal year to datetime format (if applicable)\n",
    "df['fiscal_year'] = df['fiscal_year'].astype(str)"
   ]
  },
  {
   "cell_type": "code",
   "execution_count": 10,
   "metadata": {},
   "outputs": [],
   "source": [
    "# Standardize column names\n",
    "df.columns = df.columns.str.strip().str.lower().str.replace(' ', '_')"
   ]
  },
  {
   "cell_type": "code",
   "execution_count": 12,
   "metadata": {},
   "outputs": [],
   "source": [
    "# Standardize categorical values (e.g., cause names)\n",
    "df['cause'] = df['cause'].str.strip().str.lower().str.replace(' ', '_')"
   ]
  },
  {
   "cell_type": "code",
   "execution_count": 13,
   "metadata": {},
   "outputs": [],
   "source": [
    "# Convert numerical columns to appropriate types (if needed)\n",
    "df['value'] = pd.to_numeric(df['value'], errors='coerce')"
   ]
  },
  {
   "cell_type": "code",
   "execution_count": 14,
   "metadata": {},
   "outputs": [
    {
     "name": "stdout",
     "output_type": "stream",
     "text": [
      "Data cleaning complete. Saved as cleaned_train_accident_data.csv\n"
     ]
    }
   ],
   "source": [
    "# Save cleaned dataset\n",
    "df.to_csv(\"cleaned_train_accident_data.csv\", index=False)\n",
    "\n",
    "print(\"Data cleaning complete. Saved as cleaned_train_accident_data.csv\")"
   ]
  },
  {
   "cell_type": "markdown",
   "metadata": {},
   "source": [
    "### Handle missing values\n"
   ]
  },
  {
   "cell_type": "code",
   "execution_count": 18,
   "metadata": {},
   "outputs": [],
   "source": [
    "# Option 1: Fill missing numerical values with median\n",
    "df.fillna(df.median(numeric_only=True), inplace=True)\n"
   ]
  },
  {
   "cell_type": "code",
   "execution_count": 19,
   "metadata": {},
   "outputs": [
    {
     "name": "stdout",
     "output_type": "stream",
     "text": [
      "Unique accident causes:\n",
      "['failure_of_equipment' 'failure_of_other_than_railway_staff'\n",
      " 'failure_of_railway_staff' 'incidental' 'sabotage' 'under_investigation'\n",
      " 'combination_of_factors'\n",
      " 'could_not_be_established/none_held_responsible_failure_of_equipment\\nfailure_of_other_than_railway_staff'\n",
      " 'could_not_be_established/none_held_responsible'\n",
      " 'failure_of_other_than_railway_staff_failure_of_railway_staff\\nincidental\\nsabotage'\n",
      " 'incidental_sabotage\\nunder_investigation\\ncombination_of_factors'\n",
      " 'combination_of_factors\\ncould_not_be_established/none_held_responsible_failure_of_equipment'\n",
      " 'under_investigation_combination_of_factors\\ncould_not_be_established/none_held_responsible'\n",
      " 'incidental_sabotage\\nunder_investigation']\n"
     ]
    }
   ],
   "source": [
    "# Verify data consistency\n",
    "print(\"Unique accident causes:\")\n",
    "print(df['cause'].unique())"
   ]
  },
  {
   "cell_type": "code",
   "execution_count": 20,
   "metadata": {},
   "outputs": [],
   "source": [
    "# Option 2: Fill missing categorical values with 'unknown'\n",
    "df.fillna(\"unknown\", inplace=True)"
   ]
  },
  {
   "cell_type": "code",
   "execution_count": 21,
   "metadata": {},
   "outputs": [
    {
     "name": "stdout",
     "output_type": "stream",
     "text": [
      "Unique accident causes:\n",
      "['failure_of_equipment' 'failure_of_other_than_railway_staff'\n",
      " 'failure_of_railway_staff' 'incidental' 'sabotage' 'under_investigation'\n",
      " 'combination_of_factors'\n",
      " 'could_not_be_established/none_held_responsible_failure_of_equipment\\nfailure_of_other_than_railway_staff'\n",
      " 'could_not_be_established/none_held_responsible'\n",
      " 'failure_of_other_than_railway_staff_failure_of_railway_staff\\nincidental\\nsabotage'\n",
      " 'incidental_sabotage\\nunder_investigation\\ncombination_of_factors'\n",
      " 'combination_of_factors\\ncould_not_be_established/none_held_responsible_failure_of_equipment'\n",
      " 'under_investigation_combination_of_factors\\ncould_not_be_established/none_held_responsible'\n",
      " 'incidental_sabotage\\nunder_investigation']\n"
     ]
    }
   ],
   "source": [
    "# Verify data consistency\n",
    "print(\"Unique accident causes:\")\n",
    "print(df['cause'].unique())"
   ]
  },
  {
   "cell_type": "code",
   "execution_count": 22,
   "metadata": {},
   "outputs": [
    {
     "name": "stdout",
     "output_type": "stream",
     "text": [
      "Basic statistics:\n",
      "            value\n",
      "count  131.000000\n",
      "mean    17.641221\n",
      "std     38.657484\n",
      "min      0.000000\n",
      "25%      1.000000\n",
      "50%      5.000000\n",
      "75%     13.500000\n",
      "max    293.000000\n"
     ]
    }
   ],
   "source": [
    "# Summary statistics\n",
    "print(\"Basic statistics:\")\n",
    "print(df.describe())"
   ]
  },
  {
   "cell_type": "code",
   "execution_count": 23,
   "metadata": {},
   "outputs": [
    {
     "name": "stdout",
     "output_type": "stream",
     "text": [
      "Dataset Info:\n",
      "<class 'pandas.core.frame.DataFrame'>\n",
      "RangeIndex: 131 entries, 0 to 130\n",
      "Data columns (total 6 columns):\n",
      " #   Column       Non-Null Count  Dtype  \n",
      "---  ------       --------------  -----  \n",
      " 0   fiscal_year  131 non-null    object \n",
      " 1   state        131 non-null    object \n",
      " 2   cause        131 non-null    object \n",
      " 3   value        131 non-null    float64\n",
      " 4   units        131 non-null    object \n",
      " 5   note         131 non-null    object \n",
      "dtypes: float64(1), object(5)\n",
      "memory usage: 6.3+ KB\n",
      "None\n"
     ]
    }
   ],
   "source": [
    "# Display dataset information\n",
    "print(\"Dataset Info:\")\n",
    "print(df.info())"
   ]
  },
  {
   "cell_type": "markdown",
   "metadata": {},
   "source": [
    "### "
   ]
  }
 ],
 "metadata": {
  "kernelspec": {
   "display_name": "base",
   "language": "python",
   "name": "python3"
  },
  "language_info": {
   "codemirror_mode": {
    "name": "ipython",
    "version": 3
   },
   "file_extension": ".py",
   "mimetype": "text/x-python",
   "name": "python",
   "nbconvert_exporter": "python",
   "pygments_lexer": "ipython3",
   "version": "3.12.7"
  }
 },
 "nbformat": 4,
 "nbformat_minor": 2
}
